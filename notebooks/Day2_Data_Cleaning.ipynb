{
 "cells": [
  {
   "cell_type": "code",
   "execution_count": 253,
   "id": "e01653db-99ab-4fda-a522-26d6eed6949c",
   "metadata": {},
   "outputs": [],
   "source": [
    "# NBA Contract Value Analysis\n",
    "## Data Collection, Exploration, and Initial Cleaning"
   ]
  },
  {
   "cell_type": "code",
   "execution_count": 254,
   "id": "7f2c78b7-6e7d-45f9-93af-a26f752992ec",
   "metadata": {},
   "outputs": [
    {
     "name": "stderr",
     "output_type": "stream",
     "text": [
      "\n",
      "[notice] A new release of pip is available: 24.0 -> 25.2\n",
      "[notice] To update, run: python.exe -m pip install --upgrade pip\n"
     ]
    },
    {
     "name": "stdout",
     "output_type": "stream",
     "text": [
      "Requirement already satisfied: psycopg2-binary in c:\\users\\hundo\\onedrive\\desktop\\nba_contract_value_analysis\\venv\\lib\\site-packages (2.9.10)\n",
      "('PostgreSQL 17.6 on aarch64-unknown-linux-gnu, compiled by gcc (GCC) 13.2.0, 64-bit',)\n"
     ]
    }
   ],
   "source": [
    "import pandas as pd\n",
    "import numpy as np\n",
    "import matplotlib.pyplot as plt\n",
    "import seaborn as sns\n",
    "!pip install psycopg2-binary\n",
    "import psycopg2\n",
    "import unidecode\n",
    "conn = psycopg2.connect(\n",
    "    host=\"aws-1-us-west-1.pooler.supabase.com\",\n",
    "    port=\"6543\",\n",
    "    dbname=\"postgres\",\n",
    "    user=\"postgres.sigmumejgwpiomgkveht\",\n",
    "    password=\"Ayayonuro$7007$\",\n",
    "    sslmode=\"require\"\n",
    ")\n",
    "cur = conn.cursor()\n",
    "cur.execute(\"SELECT version();\")  # ask the DB for its version\n",
    "print(cur.fetchone())             # prints something like ('PostgreSQL 15.x ...',)\n",
    "\n",
    "cur.close()\n",
    "conn.close()"
   ]
  },
  {
   "cell_type": "code",
   "execution_count": 255,
   "id": "738018e7-af3f-4e3d-b254-915ff4f94c6b",
   "metadata": {},
   "outputs": [
    {
     "name": "stdout",
     "output_type": "stream",
     "text": [
      "(737, 32)\n",
      "    Rk                   Player   Age Team  Pos     G    GS    MP    FG   FGA  \\\n",
      "0  NaN                      NaN   NaN  NaN  NaN   NaN   NaN   NaN   NaN   NaN   \n",
      "1  1.0  Shai Gilgeous-Alexander  26.0  OKC   PG  76.0  76.0  34.2  11.3  21.8   \n",
      "2  2.0    Giannis Antetokounmpo  30.0  MIL   PF  67.0  67.0  34.2  11.8  19.7   \n",
      "3  3.0             Nikola Jokić  29.0  DEN    C  70.0  70.0  36.7  11.2  19.5   \n",
      "4  4.0              Luka Dončić  25.0  2TM   PG  50.0  50.0  35.4   9.2  20.5   \n",
      "\n",
      "   ...  DRB   TRB   AST  STL  BLK  TOV   PF   PTS                    Awards  \\\n",
      "0  ...  NaN   NaN   NaN  NaN  NaN  NaN  NaN   NaN                       NaN   \n",
      "1  ...  4.1   5.0   6.4  1.7  1.0  2.4  2.2  32.7  MVP-1DPOY-10CPOY-8ASNBA1   \n",
      "2  ...  9.7  11.9   6.5  0.9  1.2  3.1  2.3  30.4         MVP-3DPOY-8ASNBA1   \n",
      "3  ...  9.9  12.7  10.2  1.8  0.6  3.3  2.3  29.6         MVP-2CPOY-2ASNBA1   \n",
      "4  ...  7.4   8.2   7.7  1.8  0.4  3.6  2.5  28.2                       NaN   \n",
      "\n",
      "   Player-additional  \n",
      "0              -9999  \n",
      "1          gilgesh01  \n",
      "2          antetgi01  \n",
      "3          jokicni01  \n",
      "4          doncilu01  \n",
      "\n",
      "[5 rows x 32 columns]\n",
      "(563, 3)\n",
      "          Player Team        Salary\n",
      "0  Stephen Curry  GSW  $55,761,216 \n",
      "1    Joel Embiid  PHI  $51,415,938 \n",
      "2   Nikola Jokic  DEN  $51,415,938 \n",
      "3   Kevin Durant  PHO  $51,179,021 \n",
      "4   Bradley Beal  PHO  $50,203,930 \n"
     ]
    }
   ],
   "source": [
    "stats = pd.read_csv(\"../data/raw/nba_stats_2025.csv\")\n",
    "contracts = pd.read_csv(\"../data/raw/nba_salaries_2025.csv\")\n",
    "print(stats.shape)\n",
    "print(stats.head())\n",
    "print(contracts.shape)\n",
    "print(contracts.head())"
   ]
  },
  {
   "cell_type": "code",
   "execution_count": 256,
   "id": "13166208-a2b8-4717-99a1-7cb374c0d42e",
   "metadata": {},
   "outputs": [],
   "source": [
    "## Cleaning Player Stats Dataset"
   ]
  },
  {
   "cell_type": "code",
   "execution_count": 257,
   "id": "8eaf4391-a51f-4223-b01b-a172fb12625c",
   "metadata": {},
   "outputs": [
    {
     "name": "stdout",
     "output_type": "stream",
     "text": [
      "['rank', 'player', 'age', 'team', 'position', 'games', 'games_started', 'minutes_per_game', 'fg_made', 'fg_attempts', 'fg_pct', 'three_p_made', 'three_p_attempts', 'three_p_pct', 'two_p_made', 'two_p_attempts', 'two_p_pct', 'efg_pct', 'ft_made', 'ft_attempts', 'ft_pct', 'off_rebounds', 'def_rebounds', 'total_rebounds', 'assists', 'steals', 'blocks', 'turnovers', 'personal_fouls', 'points_per_game', 'player_id']\n"
     ]
    }
   ],
   "source": [
    "# Rename columns for standardized querying\n",
    "stats = df.rename(columns={\n",
    "    \"Rk\": \"rank\",\n",
    "    \"Player\": \"player\",\n",
    "    \"Age\": \"age\",\n",
    "    \"Team\": \"team\",\n",
    "    \"Pos\": \"position\",\n",
    "    \"G\": \"games\",\n",
    "    \"GS\": \"games_started\",\n",
    "    \"MP\": \"minutes_per_game\",\n",
    "    \"FG\": \"fg_made\",\n",
    "    \"FGA\": \"fg_attempts\",\n",
    "    \"FG%\": \"fg_pct\",\n",
    "    \"3P\": \"three_p_made\",\n",
    "    \"3PA\": \"three_p_attempts\",\n",
    "    \"3P%\": \"three_p_pct\",\n",
    "    \"2P\": \"two_p_made\",\n",
    "    \"2PA\": \"two_p_attempts\",\n",
    "    \"2P%\": \"two_p_pct\",\n",
    "    \"eFG%\": \"efg_pct\",\n",
    "    \"FT\": \"ft_made\",\n",
    "    \"FTA\": \"ft_attempts\",\n",
    "    \"FT%\": \"ft_pct\",\n",
    "    \"ORB\": \"off_rebounds\",\n",
    "    \"DRB\": \"def_rebounds\",\n",
    "    \"TRB\": \"total_rebounds\",\n",
    "    \"AST\": \"assists\",\n",
    "    \"STL\": \"steals\",\n",
    "    \"BLK\": \"blocks\",\n",
    "    \"TOV\": \"turnovers\",\n",
    "    \"PF\": \"personal_fouls\",\n",
    "    \"PTS\": \"points_per_game\",\n",
    "    \"Player-additional\": \"player_id\"   # keep as join key\n",
    "})\n",
    "print(stats.columns.tolist())"
   ]
  },
  {
   "cell_type": "code",
   "execution_count": 258,
   "id": "cf53144d-d24a-4d6d-88a4-b392d09d26d7",
   "metadata": {},
   "outputs": [],
   "source": [
    "# CLean nba stats data set to no longer include \"NaN\" and change type from float to Int\n",
    "stats = stats[stats[\"rank\"].notna()]\n",
    "stats[\"rank\"] = stats[\"rank\"].astype(\"Int64\")"
   ]
  },
  {
   "cell_type": "code",
   "execution_count": 259,
   "id": "4e9b6f3e-b545-4dbb-a28f-3c3e3a54edd4",
   "metadata": {},
   "outputs": [],
   "source": [
    "# Creates a list of players that played on multiple teams during the season\n",
    "multi_team_players = stats[stats[\"team\"] == \"2TM\"][\"player\"]"
   ]
  },
  {
   "cell_type": "code",
   "execution_count": 260,
   "id": "3a29894e-01f1-49a6-bc8d-ad146e2439af",
   "metadata": {},
   "outputs": [
    {
     "name": "stdout",
     "output_type": "stream",
     "text": [
      "Number of multi-team players: 41\n"
     ]
    }
   ],
   "source": [
    "# Check for amount of multi-team players\n",
    "print(\"Number of multi-team players:\", len(multi_team_players))\n",
    "# multi_team_players.head(10)"
   ]
  },
  {
   "cell_type": "code",
   "execution_count": 261,
   "id": "7594f6b2-55c5-4690-b200-f460827241cb",
   "metadata": {},
   "outputs": [],
   "source": [
    "# Remove duplicate rows for traded players:\n",
    "#   - For players with a \"2TM\" total row, drop the team-specific rows (e.g., DAL, LAL)\n",
    "#   - Keep only their \"2TM\" combined season stats\n",
    "#   - Single-team players remain unaffected\n",
    "stats = stats[~((stats[\"player\"].isin(multi_team_players)) & (stats[\"team\"] != \"2TM\"))]"
   ]
  },
  {
   "cell_type": "code",
   "execution_count": 262,
   "id": "ff51d973-c6d2-4900-9605-4eb7fcfe4f89",
   "metadata": {},
   "outputs": [
    {
     "data": {
      "text/plain": [
       "rank             Int64\n",
       "games            Int64\n",
       "age              Int64\n",
       "games_started    Int64\n",
       "dtype: object"
      ]
     },
     "execution_count": 262,
     "metadata": {},
     "output_type": "execute_result"
    }
   ],
   "source": [
    "# Columns should be integers, then confirm\n",
    "int_cols =[\"rank\", \"games\", \"age\", \"games_started\"] \n",
    "stats[int_cols] = stats[int_cols].astype(\"Int64\")\n",
    "stats.dtypes[int_cols]"
   ]
  },
  {
   "cell_type": "code",
   "execution_count": 263,
   "id": "3e41ff76-6867-47f9-b2ef-db1070d41ef1",
   "metadata": {},
   "outputs": [],
   "source": [
    "### Dropping `Awards` Column\n",
    "# The `Awards` column was removed because:\n",
    "# - It contained inconsistent strings (e.g., \"MVP-10\" = 10th in MVP voting, not an actual MVP award).\n",
    "# - Many `2TM` summary rows were missing awards, leading to incomplete or misleading data.\n",
    "# - Awards are subjective recognition and less relevant to our core analysis (salary vs. performance).\n",
    "# By removing this column, we simplify the dataset and focus on reliable, objective performance metrics.\n",
    "stats = stats.drop(columns=[\"Awards\"], errors=\"ignore\")"
   ]
  },
  {
   "cell_type": "code",
   "execution_count": 264,
   "id": "926f386a-898e-452e-a9e6-83c62ca26732",
   "metadata": {},
   "outputs": [
    {
     "data": {
      "text/plain": [
       "False"
      ]
     },
     "execution_count": 264,
     "metadata": {},
     "output_type": "execute_result"
    }
   ],
   "source": [
    "\"Awards\" in stats.columns"
   ]
  },
  {
   "cell_type": "code",
   "execution_count": 265,
   "id": "63883b98-0318-48e8-bdc9-2261737edd35",
   "metadata": {},
   "outputs": [],
   "source": [
    "# Filter out low participation players\n",
    "stats = stats[(df[\"games\"] >= 41) & (stats[\"minutes_per_game\"] >= 10)]"
   ]
  },
  {
   "cell_type": "code",
   "execution_count": 266,
   "id": "16ea60b4-bee0-42ab-ae8a-17e3996032e8",
   "metadata": {},
   "outputs": [],
   "source": [
    "# Clean names in stats dataset\n",
    "stats[\"player\"] = stats[\"player\"].apply(unidecode.unidecode)\n",
    "stats[\"player\"] = stats[\"player\"].str.strip()"
   ]
  },
  {
   "cell_type": "code",
   "execution_count": 267,
   "id": "3679a8d8-5260-4205-886c-0a92c0a110f9",
   "metadata": {},
   "outputs": [],
   "source": [
    "# Remove duplicates and reset index\n",
    "stats = stats.drop_duplicates(subset=[\"player\", \"team\"])\n",
    "stats = stats.reset_index(drop=True)"
   ]
  },
  {
   "cell_type": "code",
   "execution_count": 268,
   "id": "41357b70-34a3-4f69-9620-ccc192398266",
   "metadata": {},
   "outputs": [
    {
     "name": "stdout",
     "output_type": "stream",
     "text": [
      "Final dataset shape: (327, 31)\n",
      "   rank                   player  age team position  games  games_started  \\\n",
      "0     1  Shai Gilgeous-Alexander   26  OKC       PG     76             76   \n",
      "1     2    Giannis Antetokounmpo   30  MIL       PF     67             67   \n",
      "2     3             Nikola Jokic   29  DEN        C     70             70   \n",
      "3     4              Luka Doncic   25  2TM       PG     50             50   \n",
      "4     5          Anthony Edwards   23  MIN       SG     79             79   \n",
      "\n",
      "   minutes_per_game  fg_made  fg_attempts  ...  off_rebounds  def_rebounds  \\\n",
      "0              34.2     11.3         21.8  ...           0.9           4.1   \n",
      "1              34.2     11.8         19.7  ...           2.2           9.7   \n",
      "2              36.7     11.2         19.5  ...           2.9           9.9   \n",
      "3              35.4      9.2         20.5  ...           0.8           7.4   \n",
      "4              36.3      9.1         20.4  ...           0.8           4.9   \n",
      "\n",
      "   total_rebounds  assists  steals  blocks  turnovers  personal_fouls  \\\n",
      "0             5.0      6.4     1.7     1.0        2.4             2.2   \n",
      "1            11.9      6.5     0.9     1.2        3.1             2.3   \n",
      "2            12.7     10.2     1.8     0.6        3.3             2.3   \n",
      "3             8.2      7.7     1.8     0.4        3.6             2.5   \n",
      "4             5.7      4.5     1.2     0.6        3.2             1.9   \n",
      "\n",
      "   points_per_game  player_id  \n",
      "0             32.7  gilgesh01  \n",
      "1             30.4  antetgi01  \n",
      "2             29.6  jokicni01  \n",
      "3             28.2  doncilu01  \n",
      "4             27.6  edwaran01  \n",
      "\n",
      "[5 rows x 31 columns]\n"
     ]
    }
   ],
   "source": [
    "# Final Check\n",
    "print(\"Final dataset shape:\", stats.shape)\n",
    "print(stats.head())"
   ]
  },
  {
   "cell_type": "code",
   "execution_count": 269,
   "id": "bc2f5b49-0088-498a-88a1-934d22ce3ad1",
   "metadata": {},
   "outputs": [
    {
     "name": "stdout",
     "output_type": "stream",
     "text": [
      "Cleaned dataset saved successfully.\n"
     ]
    }
   ],
   "source": [
    "# After cleaning, saved the processed dataset into a separate folder\n",
    "stats.to_csv(\"../data/clean/nba_stats_clean.csv\", index=False)\n",
    "print(\"Cleaned dataset saved successfully.\")"
   ]
  },
  {
   "cell_type": "code",
   "execution_count": 270,
   "id": "c7b75c39-cdad-4d10-98cb-c6f0664e422f",
   "metadata": {},
   "outputs": [],
   "source": [
    "# Cleaning player salaries data set"
   ]
  },
  {
   "cell_type": "code",
   "execution_count": 271,
   "id": "df59c986-da18-4bfa-af86-a98934f277f4",
   "metadata": {},
   "outputs": [
    {
     "data": {
      "text/html": [
       "<div>\n",
       "<style scoped>\n",
       "    .dataframe tbody tr th:only-of-type {\n",
       "        vertical-align: middle;\n",
       "    }\n",
       "\n",
       "    .dataframe tbody tr th {\n",
       "        vertical-align: top;\n",
       "    }\n",
       "\n",
       "    .dataframe thead th {\n",
       "        text-align: right;\n",
       "    }\n",
       "</style>\n",
       "<table border=\"1\" class=\"dataframe\">\n",
       "  <thead>\n",
       "    <tr style=\"text-align: right;\">\n",
       "      <th></th>\n",
       "      <th>Player</th>\n",
       "      <th>Team</th>\n",
       "      <th>Salary</th>\n",
       "    </tr>\n",
       "  </thead>\n",
       "  <tbody>\n",
       "    <tr>\n",
       "      <th>0</th>\n",
       "      <td>Stephen Curry</td>\n",
       "      <td>GSW</td>\n",
       "      <td>55761216</td>\n",
       "    </tr>\n",
       "    <tr>\n",
       "      <th>1</th>\n",
       "      <td>Joel Embiid</td>\n",
       "      <td>PHI</td>\n",
       "      <td>51415938</td>\n",
       "    </tr>\n",
       "    <tr>\n",
       "      <th>2</th>\n",
       "      <td>Nikola Jokic</td>\n",
       "      <td>DEN</td>\n",
       "      <td>51415938</td>\n",
       "    </tr>\n",
       "    <tr>\n",
       "      <th>3</th>\n",
       "      <td>Kevin Durant</td>\n",
       "      <td>PHO</td>\n",
       "      <td>51179021</td>\n",
       "    </tr>\n",
       "    <tr>\n",
       "      <th>4</th>\n",
       "      <td>Bradley Beal</td>\n",
       "      <td>PHO</td>\n",
       "      <td>50203930</td>\n",
       "    </tr>\n",
       "  </tbody>\n",
       "</table>\n",
       "</div>"
      ],
      "text/plain": [
       "          Player Team    Salary\n",
       "0  Stephen Curry  GSW  55761216\n",
       "1    Joel Embiid  PHI  51415938\n",
       "2   Nikola Jokic  DEN  51415938\n",
       "3   Kevin Durant  PHO  51179021\n",
       "4   Bradley Beal  PHO  50203930"
      ]
     },
     "execution_count": 271,
     "metadata": {},
     "output_type": "execute_result"
    }
   ],
   "source": [
    "# Clean salary column, Remove $ and commas, Strip whitespace, Convert to integer\n",
    "\n",
    "contracts[\"Salary\"] = (\n",
    "    contracts[\"Salary\"]\n",
    "    .str.replace(\"$\", \"\", regex=False)\n",
    "    .str.replace(\",\", \"\", regex=False)\n",
    "    .str.strip()\n",
    "    .astype(int)\n",
    "    )\n",
    "\n",
    "contracts.head()"
   ]
  },
  {
   "cell_type": "code",
   "execution_count": 272,
   "id": "e5ec41f9-d0a2-4186-8101-80173abf0630",
   "metadata": {},
   "outputs": [
    {
     "data": {
      "text/html": [
       "<div>\n",
       "<style scoped>\n",
       "    .dataframe tbody tr th:only-of-type {\n",
       "        vertical-align: middle;\n",
       "    }\n",
       "\n",
       "    .dataframe tbody tr th {\n",
       "        vertical-align: top;\n",
       "    }\n",
       "\n",
       "    .dataframe thead th {\n",
       "        text-align: right;\n",
       "    }\n",
       "</style>\n",
       "<table border=\"1\" class=\"dataframe\">\n",
       "  <thead>\n",
       "    <tr style=\"text-align: right;\">\n",
       "      <th></th>\n",
       "      <th>Player</th>\n",
       "      <th>Team</th>\n",
       "      <th>Salary</th>\n",
       "    </tr>\n",
       "  </thead>\n",
       "  <tbody>\n",
       "    <tr>\n",
       "      <th>0</th>\n",
       "      <td>Stephen Curry</td>\n",
       "      <td>GSW</td>\n",
       "      <td>55761216</td>\n",
       "    </tr>\n",
       "    <tr>\n",
       "      <th>1</th>\n",
       "      <td>Joel Embiid</td>\n",
       "      <td>PHI</td>\n",
       "      <td>51415938</td>\n",
       "    </tr>\n",
       "    <tr>\n",
       "      <th>2</th>\n",
       "      <td>Nikola Jokic</td>\n",
       "      <td>DEN</td>\n",
       "      <td>51415938</td>\n",
       "    </tr>\n",
       "    <tr>\n",
       "      <th>3</th>\n",
       "      <td>Kevin Durant</td>\n",
       "      <td>PHO</td>\n",
       "      <td>51179021</td>\n",
       "    </tr>\n",
       "    <tr>\n",
       "      <th>4</th>\n",
       "      <td>Bradley Beal</td>\n",
       "      <td>PHO</td>\n",
       "      <td>50203930</td>\n",
       "    </tr>\n",
       "  </tbody>\n",
       "</table>\n",
       "</div>"
      ],
      "text/plain": [
       "          Player Team    Salary\n",
       "0  Stephen Curry  GSW  55761216\n",
       "1    Joel Embiid  PHI  51415938\n",
       "2   Nikola Jokic  DEN  51415938\n",
       "3   Kevin Durant  PHO  51179021\n",
       "4   Bradley Beal  PHO  50203930"
      ]
     },
     "execution_count": 272,
     "metadata": {},
     "output_type": "execute_result"
    }
   ],
   "source": [
    "# Standardize texts for consistency and drop duplicates\n",
    "contracts[\"Player\"] = contracts[\"Player\"].str.strip()\n",
    "contracts[\"Team\"] = contracts[\"Team\"].str.strip().str.upper()\n",
    "contracts = contracts.drop_duplicates(subset=[\"Player\", \"Team\"])\n",
    "\n",
    "contracts.head()"
   ]
  },
  {
   "cell_type": "code",
   "execution_count": 273,
   "id": "41695c30-f2ec-4632-939e-c9d4958928bb",
   "metadata": {},
   "outputs": [
    {
     "name": "stdout",
     "output_type": "stream",
     "text": [
      "Player    0\n",
      "Team      0\n",
      "Salary    0\n",
      "dtype: int64\n"
     ]
    }
   ],
   "source": [
    "# Check for missing values and standardize column name for querying\n",
    "print(contracts.isnull().sum())\n",
    "contracts = contracts.rename(columns={\n",
    "    \"Player\": \"player\",\n",
    "    \"Team\": \"team\",\n",
    "    \"Salary\": \"salary\"\n",
    "})"
   ]
  },
  {
   "cell_type": "code",
   "execution_count": 274,
   "id": "7838e1fb-79b7-471a-89ae-e8d6468c9385",
   "metadata": {},
   "outputs": [
    {
     "name": "stdout",
     "output_type": "stream",
     "text": [
      "Cleaned dataset saved successfully.\n"
     ]
    }
   ],
   "source": [
    "# After cleaning, saved the processed dataset into a separate folder\n",
    "contracts.to_csv(\"../data/clean/nba_contracts_clean.csv\", index=False)\n",
    "print(\"Cleaned dataset saved successfully.\")"
   ]
  }
 ],
 "metadata": {
  "kernelspec": {
   "display_name": "Python 3 (ipykernel)",
   "language": "python",
   "name": "python3"
  },
  "language_info": {
   "codemirror_mode": {
    "name": "ipython",
    "version": 3
   },
   "file_extension": ".py",
   "mimetype": "text/x-python",
   "name": "python",
   "nbconvert_exporter": "python",
   "pygments_lexer": "ipython3",
   "version": "3.12.2"
  }
 },
 "nbformat": 4,
 "nbformat_minor": 5
}
