{
 "cells": [
  {
   "cell_type": "code",
   "execution_count": 386,
   "id": "e01653db-99ab-4fda-a522-26d6eed6949c",
   "metadata": {},
   "outputs": [],
   "source": [
    "# NBA Contract Value Analysis\n",
    "## Data Collection, Exploration, and Initial Cleaning"
   ]
  },
  {
   "cell_type": "code",
   "execution_count": 387,
   "id": "7f2c78b7-6e7d-45f9-93af-a26f752992ec",
   "metadata": {},
   "outputs": [
    {
     "name": "stdout",
     "output_type": "stream",
     "text": [
      "('PostgreSQL 17.6 on aarch64-unknown-linux-gnu, compiled by gcc (GCC) 13.2.0, 64-bit',)\n"
     ]
    }
   ],
   "source": [
    "import pandas as pd\n",
    "import numpy as np\n",
    "import matplotlib.pyplot as plt\n",
    "import seaborn as sns\n",
    "import psycopg2\n",
    "import os\n",
    "from dotenv import load_dotenv\n",
    "from sqlalchemy import create_engine\n",
    "import unidecode\n",
    "# Load environment variables from the .env file\n",
    "load_dotenv()\n",
    "\n",
    "#load datasets to sql server\n",
    "\n",
    "db_url = (\n",
    "    f\"postgresql+psycopg2://{os.getenv('DB_USER')}:{os.getenv('DB_PASSWORD')}\"\n",
    "    f\"@{os.getenv('DB_HOST')}:{os.getenv('DB_PORT')}/{os.getenv('DB_NAME')}\"\n",
    ")\n",
    "\n",
    "engine = create_engine(db_url)\n",
    "\n",
    "# Connect securely using variables\n",
    "conn = psycopg2.connect(\n",
    "    host=os.getenv(\"DB_HOST\"),\n",
    "    port=os.getenv(\"DB_PORT\"),\n",
    "    dbname=os.getenv(\"DB_NAME\"),\n",
    "    user=os.getenv(\"DB_USER\"),\n",
    "    password=os.getenv(\"DB_PASSWORD\"),\n",
    "    sslmode=\"require\"\n",
    ")\n",
    "cur = conn.cursor()\n",
    "cur.execute(\"SELECT version();\")  # ask the DB for its version\n",
    "print(cur.fetchone())             # prints something like ('PostgreSQL 15.x ...',)\n",
    "\n",
    "cur.close()\n",
    "conn.close()"
   ]
  },
  {
   "cell_type": "code",
   "execution_count": 388,
   "id": "738018e7-af3f-4e3d-b254-915ff4f94c6b",
   "metadata": {},
   "outputs": [
    {
     "data": {
      "text/html": [
       "<div>\n",
       "<style scoped>\n",
       "    .dataframe tbody tr th:only-of-type {\n",
       "        vertical-align: middle;\n",
       "    }\n",
       "\n",
       "    .dataframe tbody tr th {\n",
       "        vertical-align: top;\n",
       "    }\n",
       "\n",
       "    .dataframe thead th {\n",
       "        text-align: right;\n",
       "    }\n",
       "</style>\n",
       "<table border=\"1\" class=\"dataframe\">\n",
       "  <thead>\n",
       "    <tr style=\"text-align: right;\">\n",
       "      <th></th>\n",
       "      <th>count</th>\n",
       "    </tr>\n",
       "  </thead>\n",
       "  <tbody>\n",
       "    <tr>\n",
       "      <th>0</th>\n",
       "      <td>536</td>\n",
       "    </tr>\n",
       "  </tbody>\n",
       "</table>\n",
       "</div>"
      ],
      "text/plain": [
       "   count\n",
       "0    536"
      ]
     },
     "execution_count": 388,
     "metadata": {},
     "output_type": "execute_result"
    }
   ],
   "source": [
    "stats = pd.read_csv(\"../data/raw/nba_stats_2025.csv\")\n",
    "contracts = pd.read_csv(\"../data/raw/nba_salaries_2025.csv\")\n",
    "adv = pd.read_csv(\"../data/raw/nba_advanced_2025.csv\")\n",
    "\n",
    "pd.read_sql(\"SELECT COUNT(*) FROM contracts\", engine)\n",
    "\n",
    "#print(stats.shape)\n",
    "#print(stats.head())\n",
    "#print(contracts.shape)\n",
    "#print(contracts.head())"
   ]
  },
  {
   "cell_type": "code",
   "execution_count": 389,
   "id": "13166208-a2b8-4717-99a1-7cb374c0d42e",
   "metadata": {},
   "outputs": [],
   "source": [
    "## Cleaning Player Stats Dataset"
   ]
  },
  {
   "cell_type": "code",
   "execution_count": 390,
   "id": "8eaf4391-a51f-4223-b01b-a172fb12625c",
   "metadata": {},
   "outputs": [
    {
     "name": "stdout",
     "output_type": "stream",
     "text": [
      "['rank', 'player', 'age', 'team', 'position', 'games', 'games_started', 'minutes_per_game', 'fg_made', 'fg_attempts', 'fg_pct', 'three_p_made', 'three_p_attempts', 'three_p_pct', 'two_p_made', 'two_p_attempts', 'two_p_pct', 'efg_pct', 'ft_made', 'ft_attempts', 'ft_pct', 'off_rebounds', 'def_rebounds', 'total_rebounds', 'assists', 'steals', 'blocks', 'turnovers', 'personal_fouls', 'points_per_game', 'Awards', 'player_id']\n"
     ]
    }
   ],
   "source": [
    "# Rename columns for standardized querying\n",
    "stats = stats.rename(columns={\n",
    "    \"Rk\": \"rank\",\n",
    "    \"Player\": \"player\",\n",
    "    \"Age\": \"age\",\n",
    "    \"Team\": \"team\",\n",
    "    \"Pos\": \"position\",\n",
    "    \"G\": \"games\",\n",
    "    \"GS\": \"games_started\",\n",
    "    \"MP\": \"minutes_per_game\",\n",
    "    \"FG\": \"fg_made\",\n",
    "    \"FGA\": \"fg_attempts\",\n",
    "    \"FG%\": \"fg_pct\",\n",
    "    \"3P\": \"three_p_made\",\n",
    "    \"3PA\": \"three_p_attempts\",\n",
    "    \"3P%\": \"three_p_pct\",\n",
    "    \"2P\": \"two_p_made\",\n",
    "    \"2PA\": \"two_p_attempts\",\n",
    "    \"2P%\": \"two_p_pct\",\n",
    "    \"eFG%\": \"efg_pct\",\n",
    "    \"FT\": \"ft_made\",\n",
    "    \"FTA\": \"ft_attempts\",\n",
    "    \"FT%\": \"ft_pct\",\n",
    "    \"ORB\": \"off_rebounds\",\n",
    "    \"DRB\": \"def_rebounds\",\n",
    "    \"TRB\": \"total_rebounds\",\n",
    "    \"AST\": \"assists\",\n",
    "    \"STL\": \"steals\",\n",
    "    \"BLK\": \"blocks\",\n",
    "    \"TOV\": \"turnovers\",\n",
    "    \"PF\": \"personal_fouls\",\n",
    "    \"PTS\": \"points_per_game\",\n",
    "    \"Player-additional\": \"player_id\"   # keep as join key\n",
    "})\n",
    "print(stats.columns.tolist())"
   ]
  },
  {
   "cell_type": "code",
   "execution_count": 391,
   "id": "cf53144d-d24a-4d6d-88a4-b392d09d26d7",
   "metadata": {},
   "outputs": [],
   "source": [
    "# CLean nba stats data set to no longer include \"NaN\" and change type from float to Int\n",
    "stats = stats[stats[\"rank\"].notna()]\n",
    "stats[\"rank\"] = stats[\"rank\"].astype(\"Int64\")"
   ]
  },
  {
   "cell_type": "code",
   "execution_count": 392,
   "id": "4e9b6f3e-b545-4dbb-a28f-3c3e3a54edd4",
   "metadata": {},
   "outputs": [],
   "source": [
    "#  Remove duplicate rows for multi-team players (2TM, 3TM)\n",
    "#  Identify all players with combined season rows (\"2TM\", \"3TM\")\n",
    "#  Drop their individual team rows (DAL, LAL, etc.)\n",
    "#  Keep only their multi-team total row for the full-season summary\n",
    "multi_team_players = stats[stats[\"team\"].str.contains(\"TM\")][\"player\"].unique()\n",
    "stats = stats[~((stats[\"player\"].isin(multi_team_players)) & (~stats[\"team\"].str.contains(\"TM\")))\n",
    "]"
   ]
  },
  {
   "cell_type": "code",
   "execution_count": 393,
   "id": "3a29894e-01f1-49a6-bc8d-ad146e2439af",
   "metadata": {},
   "outputs": [
    {
     "name": "stdout",
     "output_type": "stream",
     "text": [
      "Number of multi-team players: 81\n"
     ]
    }
   ],
   "source": [
    "# Check for amount of multi-team players\n",
    "print(\"Number of multi-team players:\", len(multi_team_players))\n",
    "# multi_team_players.head(10)"
   ]
  },
  {
   "cell_type": "code",
   "execution_count": 394,
   "id": "ff51d973-c6d2-4900-9605-4eb7fcfe4f89",
   "metadata": {},
   "outputs": [
    {
     "data": {
      "text/plain": [
       "rank             Int64\n",
       "games            Int64\n",
       "age              Int64\n",
       "games_started    Int64\n",
       "dtype: object"
      ]
     },
     "execution_count": 394,
     "metadata": {},
     "output_type": "execute_result"
    }
   ],
   "source": [
    "# Columns should be integers, then confirm\n",
    "int_cols =[\"rank\", \"games\", \"age\", \"games_started\"] \n",
    "stats[int_cols] = stats[int_cols].astype(\"Int64\")\n",
    "stats.dtypes[int_cols]"
   ]
  },
  {
   "cell_type": "code",
   "execution_count": 395,
   "id": "3e41ff76-6867-47f9-b2ef-db1070d41ef1",
   "metadata": {},
   "outputs": [],
   "source": [
    "### Dropping `Awards` Column\n",
    "# The `Awards` column was removed because:\n",
    "# - It contained inconsistent strings (e.g., \"MVP-10\" = 10th in MVP voting, not an actual MVP award).\n",
    "# - Many `2TM` summary rows were missing awards, leading to incomplete or misleading data.\n",
    "# - Awards are subjective recognition and less relevant to our core analysis (salary vs. performance).\n",
    "# By removing this column, we simplify the dataset and focus on reliable, objective performance metrics.\n",
    "stats = stats.drop(columns=[\"Awards\"], errors=\"ignore\")"
   ]
  },
  {
   "cell_type": "code",
   "execution_count": 396,
   "id": "926f386a-898e-452e-a9e6-83c62ca26732",
   "metadata": {},
   "outputs": [
    {
     "data": {
      "text/plain": [
       "False"
      ]
     },
     "execution_count": 396,
     "metadata": {},
     "output_type": "execute_result"
    }
   ],
   "source": [
    "\"Awards\" in stats.columns"
   ]
  },
  {
   "cell_type": "code",
   "execution_count": 397,
   "id": "63883b98-0318-48e8-bdc9-2261737edd35",
   "metadata": {},
   "outputs": [],
   "source": [
    "# Filter out low participation players\n",
    "#stats = stats[(stats[\"games\"] >= 41) & (stats[\"minutes_per_game\"] >= 10)]"
   ]
  },
  {
   "cell_type": "code",
   "execution_count": 398,
   "id": "16ea60b4-bee0-42ab-ae8a-17e3996032e8",
   "metadata": {},
   "outputs": [],
   "source": [
    "# Clean names in stats dataset\n",
    "stats[\"player\"] = stats[\"player\"].apply(unidecode.unidecode)\n",
    "stats[\"player\"] = stats[\"player\"].str.strip()"
   ]
  },
  {
   "cell_type": "code",
   "execution_count": 399,
   "id": "3679a8d8-5260-4205-886c-0a92c0a110f9",
   "metadata": {},
   "outputs": [],
   "source": [
    "# Remove duplicates and reset index\n",
    "stats = stats.drop_duplicates(subset=[\"player\", \"team\"])\n",
    "stats = stats.reset_index(drop=True)"
   ]
  },
  {
   "cell_type": "code",
   "execution_count": 400,
   "id": "41357b70-34a3-4f69-9620-ccc192398266",
   "metadata": {},
   "outputs": [
    {
     "name": "stdout",
     "output_type": "stream",
     "text": [
      "Final dataset shape: (569, 31)\n",
      "   rank                   player  age team position  games  games_started  \\\n",
      "0     1  Shai Gilgeous-Alexander   26  OKC       PG     76             76   \n",
      "1     2    Giannis Antetokounmpo   30  MIL       PF     67             67   \n",
      "2     3             Nikola Jokic   29  DEN        C     70             70   \n",
      "3     4              Luka Doncic   25  2TM       PG     50             50   \n",
      "4     5          Anthony Edwards   23  MIN       SG     79             79   \n",
      "\n",
      "   minutes_per_game  fg_made  fg_attempts  ...  off_rebounds  def_rebounds  \\\n",
      "0              34.2     11.3         21.8  ...           0.9           4.1   \n",
      "1              34.2     11.8         19.7  ...           2.2           9.7   \n",
      "2              36.7     11.2         19.5  ...           2.9           9.9   \n",
      "3              35.4      9.2         20.5  ...           0.8           7.4   \n",
      "4              36.3      9.1         20.4  ...           0.8           4.9   \n",
      "\n",
      "   total_rebounds  assists  steals  blocks  turnovers  personal_fouls  \\\n",
      "0             5.0      6.4     1.7     1.0        2.4             2.2   \n",
      "1            11.9      6.5     0.9     1.2        3.1             2.3   \n",
      "2            12.7     10.2     1.8     0.6        3.3             2.3   \n",
      "3             8.2      7.7     1.8     0.4        3.6             2.5   \n",
      "4             5.7      4.5     1.2     0.6        3.2             1.9   \n",
      "\n",
      "   points_per_game  player_id  \n",
      "0             32.7  gilgesh01  \n",
      "1             30.4  antetgi01  \n",
      "2             29.6  jokicni01  \n",
      "3             28.2  doncilu01  \n",
      "4             27.6  edwaran01  \n",
      "\n",
      "[5 rows x 31 columns]\n"
     ]
    }
   ],
   "source": [
    "# Final Check\n",
    "print(\"Final dataset shape:\", stats.shape)\n",
    "print(stats.head())"
   ]
  },
  {
   "cell_type": "code",
   "execution_count": 401,
   "id": "bc2f5b49-0088-498a-88a1-934d22ce3ad1",
   "metadata": {},
   "outputs": [
    {
     "name": "stdout",
     "output_type": "stream",
     "text": [
      "Cleaned dataset saved successfully.\n"
     ]
    }
   ],
   "source": [
    "# After cleaning, saved the processed dataset into a separate folder\n",
    "stats.to_csv(\"../data/clean/nba_stats_clean.csv\", index=False)\n",
    "print(\"Cleaned dataset saved successfully.\")"
   ]
  },
  {
   "cell_type": "code",
   "execution_count": 402,
   "id": "b2a7434c-00f1-4e09-833a-15889ef62e79",
   "metadata": {},
   "outputs": [
    {
     "name": "stdout",
     "output_type": "stream",
     "text": [
      "['rank', 'player', 'age', 'team', 'position', 'games', 'games_started', 'minutes_played', 'per', 'ts_pct', 'threepar', 'ftr', 'orb_pct', 'drb_pct', 'trb_pct', 'ast_pct', 'stl_pct', 'blk_pct', 'tov_pct', 'usg_pct', 'ows', 'dws', 'ws', 'ws_per_48', 'obpm', 'dbpm', 'bpm', 'vorp', 'awards', 'player_id']\n"
     ]
    }
   ],
   "source": [
    "# Cleaning advanced stats data set\n",
    "# Format advanced stats column names for SQL querying \n",
    "\n",
    "adv = adv.rename(columns={\n",
    "    \"Rk\": \"rank\",\n",
    "    \"Player\": \"player\",\n",
    "    \"Age\": \"age\",\n",
    "    \"Team\": \"team\",\n",
    "    \"Pos\": \"position\",\n",
    "    \"G\": \"games\",\n",
    "    \"GS\": \"games_started\",\n",
    "    \"MP\": \"minutes_played\",\n",
    "    \"PER\": \"per\",\n",
    "    \"TS%\": \"ts_pct\",\n",
    "    \"3PAr\": \"threepar\",\n",
    "    \"FTr\": \"ftr\",\n",
    "    \"ORB%\": \"orb_pct\",\n",
    "    \"DRB%\": \"drb_pct\",\n",
    "    \"TRB%\": \"trb_pct\",\n",
    "    \"AST%\": \"ast_pct\",\n",
    "    \"STL%\": \"stl_pct\",\n",
    "    \"BLK%\": \"blk_pct\",\n",
    "    \"TOV%\": \"tov_pct\",\n",
    "    \"USG%\": \"usg_pct\",\n",
    "    \"OWS\": \"ows\",\n",
    "    \"DWS\": \"dws\",\n",
    "    \"WS\": \"ws\",\n",
    "    \"WS/48\": \"ws_per_48\",\n",
    "    \"OBPM\": \"obpm\",\n",
    "    \"DBPM\": \"dbpm\",\n",
    "    \"BPM\": \"bpm\",\n",
    "    \"VORP\": \"vorp\",\n",
    "    \"Awards\": \"awards\",\n",
    "    \"Player-additional\": \"player_id\"\n",
    "})\n",
    "\n",
    "print(adv.columns.tolist())"
   ]
  },
  {
   "cell_type": "code",
   "execution_count": 403,
   "id": "05c9ec45-644d-4444-94b6-9e48a46ac633",
   "metadata": {},
   "outputs": [],
   "source": [
    "# Cleaning advanced stats data set\n",
    "\n",
    "# Identify players who have a total multi-team row (e.g., \"2TM\", \"3TM\", \"4TM\", etc.)\n",
    "multi_team_players_adv = adv[adv[\"team\"].str.contains(\"tm\", case=False, na=False)][\"player\"].unique()\n",
    "\n",
    "# Remove their team-specific rows (e.g., BRK, DET, GSW), keeping only their \"2TM\"/\"3TM\" row\n",
    "adv = adv[~((adv[\"player\"].isin(multi_team_players_adv)) & (~adv[\"team\"].str.contains(\"tm\", case=False, na=False)))\n",
    "]"
   ]
  },
  {
   "cell_type": "code",
   "execution_count": 404,
   "id": "42fd74de-54e6-4103-bff1-b99fa1cf2f4c",
   "metadata": {},
   "outputs": [],
   "source": [
    "# Convert numeric columns to correct types\n",
    "int_cols = [\"rank\", \"age\", \"games\", \"games_started\", \"minutes_played\"]\n",
    "float_cols = [\n",
    "    \"per\", \"ts_pct\", \"threepar\", \"ftr\", \"orb_pct\", \"drb_pct\", \"trb_pct\",\n",
    "    \"ast_pct\", \"stl_pct\", \"blk_pct\", \"tov_pct\", \"usg_pct\",\n",
    "    \"ows\", \"dws\", \"ws\", \"ws_per_48\", \"obpm\", \"dbpm\", \"bpm\", \"vorp\"\n",
    "]\n",
    "\n",
    "adv[int_cols] = adv[int_cols].apply(pd.to_numeric, errors=\"coerce\").astype(\"Int64\")\n",
    "adv[float_cols] = adv[float_cols].apply(pd.to_numeric, errors=\"coerce\")"
   ]
  },
  {
   "cell_type": "code",
   "execution_count": 405,
   "id": "b1acc36c-a0bf-418a-9af4-c41f4ecb25f9",
   "metadata": {},
   "outputs": [],
   "source": [
    "# Clean names in advanced stats dataset\n",
    "adv[\"player\"] = adv[\"player\"].apply(unidecode.unidecode)\n",
    "adv[\"player\"] = adv[\"player\"].str.strip()"
   ]
  },
  {
   "cell_type": "code",
   "execution_count": 406,
   "id": "c9e6d269-3ddb-4fb4-a8b5-b66a45301244",
   "metadata": {},
   "outputs": [],
   "source": [
    "# Remove duplicates and reset index\n",
    "adv = adv.drop_duplicates(subset=[\"player\", \"team\"])\n",
    "adv = adv.reset_index(drop=True)"
   ]
  },
  {
   "cell_type": "code",
   "execution_count": 407,
   "id": "4f6b9a79-f48f-4f63-affa-38be6957c084",
   "metadata": {},
   "outputs": [
    {
     "data": {
      "text/plain": [
       "False"
      ]
     },
     "execution_count": 407,
     "metadata": {},
     "output_type": "execute_result"
    }
   ],
   "source": [
    "# Dropping `Awards` Column\n",
    "adv = adv.drop(columns=[\"awards\"], errors=\"ignore\")\n",
    "\"awards\" in adv.columns"
   ]
  },
  {
   "cell_type": "code",
   "execution_count": 408,
   "id": "63a71be4-1f40-49d8-a409-ac52a56a5c7b",
   "metadata": {},
   "outputs": [
    {
     "name": "stdout",
     "output_type": "stream",
     "text": [
      "Final dataset shape: (570, 29)\n",
      "   rank           player  age team position  games  games_started  \\\n",
      "0     1    Mikal Bridges   28  NYK       SF     82             82   \n",
      "1     2        Josh Hart   29  NYK       SG     77             77   \n",
      "2     3  Anthony Edwards   23  MIN       SG     79             79   \n",
      "3     4     Devin Booker   28  PHO       SG     75             75   \n",
      "4     5     James Harden   35  LAC       PG     79             79   \n",
      "\n",
      "   minutes_played   per  ts_pct  ...  usg_pct  ows  dws   ws  ws_per_48  obpm  \\\n",
      "0            3036  14.0   0.585  ...     19.6  3.7  2.0  5.7      0.090   0.4   \n",
      "1            2897  16.5   0.611  ...     15.3  5.4  3.8  9.2      0.153   1.1   \n",
      "2            2871  20.1   0.595  ...     31.4  4.6  3.8  8.4      0.140   4.4   \n",
      "3            2795  19.3   0.589  ...     29.3  6.1  0.3  6.4      0.111   2.8   \n",
      "4            2789  20.0   0.582  ...     29.6  4.0  4.3  8.3      0.143   3.5   \n",
      "\n",
      "   dbpm  bpm  vorp  player_id  \n",
      "0  -0.9 -0.5   1.2  bridgmi01  \n",
      "1   1.8  2.8   3.6   hartjo01  \n",
      "2   0.0  4.3   4.6  edwaran01  \n",
      "3  -2.4  0.4   1.7  bookede01  \n",
      "4   0.8  4.3   4.4  hardeja01  \n",
      "\n",
      "[5 rows x 29 columns]\n"
     ]
    }
   ],
   "source": [
    "# Final Check\n",
    "print(\"Final dataset shape:\", adv.shape)\n",
    "print(adv.head())"
   ]
  },
  {
   "cell_type": "code",
   "execution_count": null,
   "id": "bb44033d-9435-4960-9e45-4e1dbd4bc8b3",
   "metadata": {},
   "outputs": [],
   "source": [
    "# After cleaning, saved the processed dataset into a separate folder\n",
    "adv.to_csv(\"../data/clean/nba_stats_clean.csv\", index=False)\n",
    "print(\"Cleaned dataset saved successfully.\")"
   ]
  },
  {
   "cell_type": "code",
   "execution_count": 409,
   "id": "c7b75c39-cdad-4d10-98cb-c6f0664e422f",
   "metadata": {},
   "outputs": [],
   "source": [
    "# Cleaning player salaries data set"
   ]
  },
  {
   "cell_type": "code",
   "execution_count": 410,
   "id": "352e0927-034f-47c2-8f76-49ba8cad195a",
   "metadata": {},
   "outputs": [],
   "source": [
    "# Rename contracts column names\n",
    "\n",
    "contracts = contracts.rename(columns={\n",
    "    \"Player\": \"player\",\n",
    "    \"Team\": \"team\",\n",
    "    \"Salary\": \"salary\"\n",
    "})"
   ]
  },
  {
   "cell_type": "code",
   "execution_count": 411,
   "id": "df59c986-da18-4bfa-af86-a98934f277f4",
   "metadata": {},
   "outputs": [
    {
     "data": {
      "text/html": [
       "<div>\n",
       "<style scoped>\n",
       "    .dataframe tbody tr th:only-of-type {\n",
       "        vertical-align: middle;\n",
       "    }\n",
       "\n",
       "    .dataframe tbody tr th {\n",
       "        vertical-align: top;\n",
       "    }\n",
       "\n",
       "    .dataframe thead th {\n",
       "        text-align: right;\n",
       "    }\n",
       "</style>\n",
       "<table border=\"1\" class=\"dataframe\">\n",
       "  <thead>\n",
       "    <tr style=\"text-align: right;\">\n",
       "      <th></th>\n",
       "      <th>player</th>\n",
       "      <th>team</th>\n",
       "      <th>salary</th>\n",
       "    </tr>\n",
       "  </thead>\n",
       "  <tbody>\n",
       "    <tr>\n",
       "      <th>0</th>\n",
       "      <td>Stephen Curry</td>\n",
       "      <td>GSW</td>\n",
       "      <td>55761216</td>\n",
       "    </tr>\n",
       "    <tr>\n",
       "      <th>1</th>\n",
       "      <td>Joel Embiid</td>\n",
       "      <td>PHI</td>\n",
       "      <td>51415938</td>\n",
       "    </tr>\n",
       "    <tr>\n",
       "      <th>2</th>\n",
       "      <td>Nikola Jokic</td>\n",
       "      <td>DEN</td>\n",
       "      <td>51415938</td>\n",
       "    </tr>\n",
       "    <tr>\n",
       "      <th>3</th>\n",
       "      <td>Kevin Durant</td>\n",
       "      <td>PHO</td>\n",
       "      <td>51179021</td>\n",
       "    </tr>\n",
       "    <tr>\n",
       "      <th>4</th>\n",
       "      <td>Bradley Beal</td>\n",
       "      <td>PHO</td>\n",
       "      <td>50203930</td>\n",
       "    </tr>\n",
       "  </tbody>\n",
       "</table>\n",
       "</div>"
      ],
      "text/plain": [
       "          player team    salary\n",
       "0  Stephen Curry  GSW  55761216\n",
       "1    Joel Embiid  PHI  51415938\n",
       "2   Nikola Jokic  DEN  51415938\n",
       "3   Kevin Durant  PHO  51179021\n",
       "4   Bradley Beal  PHO  50203930"
      ]
     },
     "execution_count": 411,
     "metadata": {},
     "output_type": "execute_result"
    }
   ],
   "source": [
    "# Clean salary column, Remove $ and commas, Strip whitespace, Convert to integer\n",
    "\n",
    "contracts[\"salary\"] = (\n",
    "    contracts[\"salary\"]\n",
    "    .astype(str)\n",
    "    .str.replace(\"$\", \"\", regex=False)\n",
    "    .str.replace(\",\", \"\", regex=False)\n",
    "    .str.strip()\n",
    "    .astype(int)\n",
    "    )\n",
    "\n",
    "contracts.head()"
   ]
  },
  {
   "cell_type": "code",
   "execution_count": 412,
   "id": "e5ec41f9-d0a2-4186-8101-80173abf0630",
   "metadata": {},
   "outputs": [
    {
     "data": {
      "text/html": [
       "<div>\n",
       "<style scoped>\n",
       "    .dataframe tbody tr th:only-of-type {\n",
       "        vertical-align: middle;\n",
       "    }\n",
       "\n",
       "    .dataframe tbody tr th {\n",
       "        vertical-align: top;\n",
       "    }\n",
       "\n",
       "    .dataframe thead th {\n",
       "        text-align: right;\n",
       "    }\n",
       "</style>\n",
       "<table border=\"1\" class=\"dataframe\">\n",
       "  <thead>\n",
       "    <tr style=\"text-align: right;\">\n",
       "      <th></th>\n",
       "      <th>player</th>\n",
       "      <th>team</th>\n",
       "      <th>salary</th>\n",
       "    </tr>\n",
       "  </thead>\n",
       "  <tbody>\n",
       "    <tr>\n",
       "      <th>0</th>\n",
       "      <td>Stephen Curry</td>\n",
       "      <td>GSW</td>\n",
       "      <td>55761216</td>\n",
       "    </tr>\n",
       "    <tr>\n",
       "      <th>1</th>\n",
       "      <td>Joel Embiid</td>\n",
       "      <td>PHI</td>\n",
       "      <td>51415938</td>\n",
       "    </tr>\n",
       "    <tr>\n",
       "      <th>2</th>\n",
       "      <td>Nikola Jokic</td>\n",
       "      <td>DEN</td>\n",
       "      <td>51415938</td>\n",
       "    </tr>\n",
       "    <tr>\n",
       "      <th>3</th>\n",
       "      <td>Kevin Durant</td>\n",
       "      <td>PHO</td>\n",
       "      <td>51179021</td>\n",
       "    </tr>\n",
       "    <tr>\n",
       "      <th>4</th>\n",
       "      <td>Bradley Beal</td>\n",
       "      <td>PHO</td>\n",
       "      <td>50203930</td>\n",
       "    </tr>\n",
       "  </tbody>\n",
       "</table>\n",
       "</div>"
      ],
      "text/plain": [
       "          player team    salary\n",
       "0  Stephen Curry  GSW  55761216\n",
       "1    Joel Embiid  PHI  51415938\n",
       "2   Nikola Jokic  DEN  51415938\n",
       "3   Kevin Durant  PHO  51179021\n",
       "4   Bradley Beal  PHO  50203930"
      ]
     },
     "execution_count": 412,
     "metadata": {},
     "output_type": "execute_result"
    }
   ],
   "source": [
    "# Standardize texts for consistency and drop duplicates\n",
    "contracts[\"player\"] = contracts[\"player\"].str.strip()\n",
    "contracts[\"team\"] = contracts[\"team\"].str.strip().str.upper()\n",
    "contracts = contracts.drop_duplicates(subset=[\"player\", \"team\"])\n",
    "\n",
    "contracts.head()"
   ]
  },
  {
   "cell_type": "code",
   "execution_count": 413,
   "id": "41695c30-f2ec-4632-939e-c9d4958928bb",
   "metadata": {},
   "outputs": [
    {
     "name": "stdout",
     "output_type": "stream",
     "text": [
      "player    0\n",
      "team      0\n",
      "salary    0\n",
      "dtype: int64\n"
     ]
    }
   ],
   "source": [
    "# Check for missing values and standardize column name for querying\n",
    "print(contracts.isnull().sum())"
   ]
  },
  {
   "cell_type": "code",
   "execution_count": 414,
   "id": "7838e1fb-79b7-471a-89ae-e8d6468c9385",
   "metadata": {},
   "outputs": [
    {
     "name": "stdout",
     "output_type": "stream",
     "text": [
      "Cleaned dataset saved successfully.\n"
     ]
    }
   ],
   "source": [
    "# After cleaning, saved the processed dataset into a separate folder\n",
    "contracts.to_csv(\"../data/clean/nba_contracts_clean.csv\", index=False)\n",
    "print(\"Cleaned dataset saved successfully.\")"
   ]
  },
  {
   "cell_type": "code",
   "execution_count": 415,
   "id": "3c06bb91-50c6-4cdc-9940-59205538416e",
   "metadata": {},
   "outputs": [
    {
     "data": {
      "text/plain": [
       "570"
      ]
     },
     "execution_count": 415,
     "metadata": {},
     "output_type": "execute_result"
    }
   ],
   "source": [
    "# Send clean data sets to SQL database\n",
    "stats.to_sql(\"stats\", engine, if_exists=\"replace\", index=False)\n",
    "contracts.to_sql(\"contracts\", engine, if_exists=\"replace\", index=False)\n",
    "adv.to_sql(\"adv\", engine, if_exists=\"replace\", index=False)"
   ]
  },
  {
   "cell_type": "code",
   "execution_count": 416,
   "id": "4db78f69-790d-4dcb-8cb4-e29dccd619bc",
   "metadata": {},
   "outputs": [
    {
     "data": {
      "text/html": [
       "<div>\n",
       "<style scoped>\n",
       "    .dataframe tbody tr th:only-of-type {\n",
       "        vertical-align: middle;\n",
       "    }\n",
       "\n",
       "    .dataframe tbody tr th {\n",
       "        vertical-align: top;\n",
       "    }\n",
       "\n",
       "    .dataframe thead th {\n",
       "        text-align: right;\n",
       "    }\n",
       "</style>\n",
       "<table border=\"1\" class=\"dataframe\">\n",
       "  <thead>\n",
       "    <tr style=\"text-align: right;\">\n",
       "      <th></th>\n",
       "      <th>rank</th>\n",
       "      <th>player</th>\n",
       "      <th>age</th>\n",
       "      <th>team</th>\n",
       "      <th>position</th>\n",
       "      <th>games</th>\n",
       "      <th>games_started</th>\n",
       "      <th>minutes_per_game</th>\n",
       "      <th>fg_made</th>\n",
       "      <th>fg_attempts</th>\n",
       "      <th>...</th>\n",
       "      <th>def_rebounds</th>\n",
       "      <th>total_rebounds</th>\n",
       "      <th>assists</th>\n",
       "      <th>steals</th>\n",
       "      <th>blocks</th>\n",
       "      <th>turnovers</th>\n",
       "      <th>personal_fouls</th>\n",
       "      <th>points_per_game</th>\n",
       "      <th>player_id</th>\n",
       "      <th>salary</th>\n",
       "    </tr>\n",
       "  </thead>\n",
       "  <tbody>\n",
       "    <tr>\n",
       "      <th>503</th>\n",
       "      <td>214</td>\n",
       "      <td>Zach Edey</td>\n",
       "      <td>22</td>\n",
       "      <td>MEM</td>\n",
       "      <td>C</td>\n",
       "      <td>66</td>\n",
       "      <td>55</td>\n",
       "      <td>21.5</td>\n",
       "      <td>3.8</td>\n",
       "      <td>6.6</td>\n",
       "      <td>...</td>\n",
       "      <td>4.8</td>\n",
       "      <td>8.3</td>\n",
       "      <td>1.0</td>\n",
       "      <td>0.5</td>\n",
       "      <td>1.3</td>\n",
       "      <td>1.3</td>\n",
       "      <td>2.8</td>\n",
       "      <td>9.2</td>\n",
       "      <td>edeyza01</td>\n",
       "      <td>5756880</td>\n",
       "    </tr>\n",
       "    <tr>\n",
       "      <th>504</th>\n",
       "      <td>29</td>\n",
       "      <td>Zach LaVine</td>\n",
       "      <td>29</td>\n",
       "      <td>2TM</td>\n",
       "      <td>SG</td>\n",
       "      <td>74</td>\n",
       "      <td>74</td>\n",
       "      <td>35.2</td>\n",
       "      <td>8.4</td>\n",
       "      <td>16.5</td>\n",
       "      <td>...</td>\n",
       "      <td>4.0</td>\n",
       "      <td>4.3</td>\n",
       "      <td>4.2</td>\n",
       "      <td>0.8</td>\n",
       "      <td>0.2</td>\n",
       "      <td>2.8</td>\n",
       "      <td>1.6</td>\n",
       "      <td>23.3</td>\n",
       "      <td>lavinza01</td>\n",
       "      <td>44531940</td>\n",
       "    </tr>\n",
       "    <tr>\n",
       "      <th>505</th>\n",
       "      <td>462</td>\n",
       "      <td>Zeke Nnaji</td>\n",
       "      <td>24</td>\n",
       "      <td>DEN</td>\n",
       "      <td>PF</td>\n",
       "      <td>57</td>\n",
       "      <td>4</td>\n",
       "      <td>10.7</td>\n",
       "      <td>1.2</td>\n",
       "      <td>2.5</td>\n",
       "      <td>...</td>\n",
       "      <td>1.0</td>\n",
       "      <td>1.6</td>\n",
       "      <td>0.4</td>\n",
       "      <td>0.4</td>\n",
       "      <td>0.7</td>\n",
       "      <td>0.2</td>\n",
       "      <td>1.1</td>\n",
       "      <td>3.2</td>\n",
       "      <td>nnajize01</td>\n",
       "      <td>8888889</td>\n",
       "    </tr>\n",
       "    <tr>\n",
       "      <th>506</th>\n",
       "      <td>192</td>\n",
       "      <td>Ziaire Williams</td>\n",
       "      <td>23</td>\n",
       "      <td>BRK</td>\n",
       "      <td>SF</td>\n",
       "      <td>63</td>\n",
       "      <td>45</td>\n",
       "      <td>24.5</td>\n",
       "      <td>3.4</td>\n",
       "      <td>8.3</td>\n",
       "      <td>...</td>\n",
       "      <td>3.6</td>\n",
       "      <td>4.6</td>\n",
       "      <td>1.3</td>\n",
       "      <td>1.0</td>\n",
       "      <td>0.4</td>\n",
       "      <td>1.1</td>\n",
       "      <td>2.4</td>\n",
       "      <td>10.0</td>\n",
       "      <td>willizi02</td>\n",
       "      <td>6133005</td>\n",
       "    </tr>\n",
       "    <tr>\n",
       "      <th>507</th>\n",
       "      <td>17</td>\n",
       "      <td>Zion Williamson</td>\n",
       "      <td>24</td>\n",
       "      <td>NOP</td>\n",
       "      <td>PF</td>\n",
       "      <td>30</td>\n",
       "      <td>30</td>\n",
       "      <td>28.6</td>\n",
       "      <td>9.6</td>\n",
       "      <td>16.9</td>\n",
       "      <td>...</td>\n",
       "      <td>4.7</td>\n",
       "      <td>7.2</td>\n",
       "      <td>5.3</td>\n",
       "      <td>1.2</td>\n",
       "      <td>0.9</td>\n",
       "      <td>3.0</td>\n",
       "      <td>2.7</td>\n",
       "      <td>24.6</td>\n",
       "      <td>willizi01</td>\n",
       "      <td>36725670</td>\n",
       "    </tr>\n",
       "  </tbody>\n",
       "</table>\n",
       "<p>5 rows × 32 columns</p>\n",
       "</div>"
      ],
      "text/plain": [
       "     rank           player  age team position  games  games_started  \\\n",
       "503   214        Zach Edey   22  MEM        C     66             55   \n",
       "504    29      Zach LaVine   29  2TM       SG     74             74   \n",
       "505   462       Zeke Nnaji   24  DEN       PF     57              4   \n",
       "506   192  Ziaire Williams   23  BRK       SF     63             45   \n",
       "507    17  Zion Williamson   24  NOP       PF     30             30   \n",
       "\n",
       "     minutes_per_game  fg_made  fg_attempts  ...  def_rebounds  \\\n",
       "503              21.5      3.8          6.6  ...           4.8   \n",
       "504              35.2      8.4         16.5  ...           4.0   \n",
       "505              10.7      1.2          2.5  ...           1.0   \n",
       "506              24.5      3.4          8.3  ...           3.6   \n",
       "507              28.6      9.6         16.9  ...           4.7   \n",
       "\n",
       "     total_rebounds  assists  steals  blocks  turnovers  personal_fouls  \\\n",
       "503             8.3      1.0     0.5     1.3        1.3             2.8   \n",
       "504             4.3      4.2     0.8     0.2        2.8             1.6   \n",
       "505             1.6      0.4     0.4     0.7        0.2             1.1   \n",
       "506             4.6      1.3     1.0     0.4        1.1             2.4   \n",
       "507             7.2      5.3     1.2     0.9        3.0             2.7   \n",
       "\n",
       "     points_per_game  player_id    salary  \n",
       "503              9.2   edeyza01   5756880  \n",
       "504             23.3  lavinza01  44531940  \n",
       "505              3.2  nnajize01   8888889  \n",
       "506             10.0  willizi02   6133005  \n",
       "507             24.6  willizi01  36725670  \n",
       "\n",
       "[5 rows x 32 columns]"
      ]
     },
     "execution_count": 416,
     "metadata": {},
     "output_type": "execute_result"
    }
   ],
   "source": [
    "# Connect notebook to SQL join query files\n",
    "\n",
    "with open(\"../sql/join_stats_contracts.sql\", \"r\") as file:\n",
    "    query = file.read()\n",
    "\n",
    "joined_df = pd.read_sql(query, engine)\n",
    "joined_df.tail()"
   ]
  },
  {
   "cell_type": "code",
   "execution_count": 417,
   "id": "f5c7d3a8-e32e-4335-aecf-e6367771a4b9",
   "metadata": {},
   "outputs": [
    {
     "data": {
      "text/html": [
       "<div>\n",
       "<style scoped>\n",
       "    .dataframe tbody tr th:only-of-type {\n",
       "        vertical-align: middle;\n",
       "    }\n",
       "\n",
       "    .dataframe tbody tr th {\n",
       "        vertical-align: top;\n",
       "    }\n",
       "\n",
       "    .dataframe thead th {\n",
       "        text-align: right;\n",
       "    }\n",
       "</style>\n",
       "<table border=\"1\" class=\"dataframe\">\n",
       "  <thead>\n",
       "    <tr style=\"text-align: right;\">\n",
       "      <th></th>\n",
       "      <th>player</th>\n",
       "    </tr>\n",
       "  </thead>\n",
       "  <tbody>\n",
       "    <tr>\n",
       "      <th>0</th>\n",
       "      <td>Bojan Bogdanović</td>\n",
       "    </tr>\n",
       "    <tr>\n",
       "      <th>1</th>\n",
       "      <td>Saddiq Bey</td>\n",
       "    </tr>\n",
       "    <tr>\n",
       "      <th>2</th>\n",
       "      <td>Davis Bertans</td>\n",
       "    </tr>\n",
       "    <tr>\n",
       "      <th>3</th>\n",
       "      <td>Nikola Topic</td>\n",
       "    </tr>\n",
       "    <tr>\n",
       "      <th>4</th>\n",
       "      <td>Cody Zeller</td>\n",
       "    </tr>\n",
       "    <tr>\n",
       "      <th>5</th>\n",
       "      <td>Nassir Little</td>\n",
       "    </tr>\n",
       "    <tr>\n",
       "      <th>6</th>\n",
       "      <td>DaRon Holmes</td>\n",
       "    </tr>\n",
       "    <tr>\n",
       "      <th>7</th>\n",
       "      <td>Christian Wood</td>\n",
       "    </tr>\n",
       "    <tr>\n",
       "      <th>8</th>\n",
       "      <td>Dewayne Dedmon</td>\n",
       "    </tr>\n",
       "    <tr>\n",
       "      <th>9</th>\n",
       "      <td>Keita Bates-Diop</td>\n",
       "    </tr>\n",
       "    <tr>\n",
       "      <th>10</th>\n",
       "      <td>Charlie Brown Jr.</td>\n",
       "    </tr>\n",
       "    <tr>\n",
       "      <th>11</th>\n",
       "      <td>JaVale McGee</td>\n",
       "    </tr>\n",
       "    <tr>\n",
       "      <th>12</th>\n",
       "      <td>Duane Washington Jr.</td>\n",
       "    </tr>\n",
       "    <tr>\n",
       "      <th>13</th>\n",
       "      <td>Kennedy Chandler</td>\n",
       "    </tr>\n",
       "    <tr>\n",
       "      <th>14</th>\n",
       "      <td>Eric Bledsoe</td>\n",
       "    </tr>\n",
       "    <tr>\n",
       "      <th>15</th>\n",
       "      <td>Joshua Primo</td>\n",
       "    </tr>\n",
       "    <tr>\n",
       "      <th>16</th>\n",
       "      <td>Nik Stauskas</td>\n",
       "    </tr>\n",
       "    <tr>\n",
       "      <th>17</th>\n",
       "      <td>Juwan Morgan</td>\n",
       "    </tr>\n",
       "    <tr>\n",
       "      <th>18</th>\n",
       "      <td>Malik Fitts</td>\n",
       "    </tr>\n",
       "    <tr>\n",
       "      <th>19</th>\n",
       "      <td>Mamadi Diakite</td>\n",
       "    </tr>\n",
       "    <tr>\n",
       "      <th>20</th>\n",
       "      <td>Ricky Rubio</td>\n",
       "    </tr>\n",
       "    <tr>\n",
       "      <th>21</th>\n",
       "      <td>Didi Louzada</td>\n",
       "    </tr>\n",
       "    <tr>\n",
       "      <th>22</th>\n",
       "      <td>AJ Griffin</td>\n",
       "    </tr>\n",
       "    <tr>\n",
       "      <th>23</th>\n",
       "      <td>Eugene Omoruyi</td>\n",
       "    </tr>\n",
       "    <tr>\n",
       "      <th>24</th>\n",
       "      <td>Kevon Harris</td>\n",
       "    </tr>\n",
       "    <tr>\n",
       "      <th>25</th>\n",
       "      <td>Javon Freeman-Liberty</td>\n",
       "    </tr>\n",
       "    <tr>\n",
       "      <th>26</th>\n",
       "      <td>Erik Stevenson</td>\n",
       "    </tr>\n",
       "    <tr>\n",
       "      <th>27</th>\n",
       "      <td>Javante McCoy</td>\n",
       "    </tr>\n",
       "  </tbody>\n",
       "</table>\n",
       "</div>"
      ],
      "text/plain": [
       "                   player\n",
       "0        Bojan Bogdanović\n",
       "1              Saddiq Bey\n",
       "2           Davis Bertans\n",
       "3            Nikola Topic\n",
       "4             Cody Zeller\n",
       "5           Nassir Little\n",
       "6            DaRon Holmes\n",
       "7          Christian Wood\n",
       "8          Dewayne Dedmon\n",
       "9        Keita Bates-Diop\n",
       "10      Charlie Brown Jr.\n",
       "11           JaVale McGee\n",
       "12   Duane Washington Jr.\n",
       "13       Kennedy Chandler\n",
       "14           Eric Bledsoe\n",
       "15           Joshua Primo\n",
       "16           Nik Stauskas\n",
       "17           Juwan Morgan\n",
       "18            Malik Fitts\n",
       "19         Mamadi Diakite\n",
       "20            Ricky Rubio\n",
       "21           Didi Louzada\n",
       "22             AJ Griffin\n",
       "23         Eugene Omoruyi\n",
       "24           Kevon Harris\n",
       "25  Javon Freeman-Liberty\n",
       "26         Erik Stevenson\n",
       "27          Javante McCoy"
      ]
     },
     "metadata": {},
     "output_type": "display_data"
    }
   ],
   "source": [
    "with open(\"../sql/check_unmatched_players.sql\", \"r\") as file:\n",
    "    query = file.read()\n",
    "\n",
    "pd.set_option(\"display.max_rows\", 1000)\n",
    "\n",
    "df_check = pd.read_sql(query, engine)\n",
    "display(df_check)"
   ]
  },
  {
   "cell_type": "code",
   "execution_count": null,
   "id": "94901f1c-058c-421d-abc9-07fe4d22b8ec",
   "metadata": {},
   "outputs": [],
   "source": []
  }
 ],
 "metadata": {
  "kernelspec": {
   "display_name": "Python 3 (ipykernel)",
   "language": "python",
   "name": "python3"
  },
  "language_info": {
   "codemirror_mode": {
    "name": "ipython",
    "version": 3
   },
   "file_extension": ".py",
   "mimetype": "text/x-python",
   "name": "python",
   "nbconvert_exporter": "python",
   "pygments_lexer": "ipython3",
   "version": "3.12.2"
  }
 },
 "nbformat": 4,
 "nbformat_minor": 5
}
