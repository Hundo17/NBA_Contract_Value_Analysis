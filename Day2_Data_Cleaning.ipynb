{
 "cells": [
  {
   "cell_type": "code",
   "execution_count": 1,
   "id": "e01653db-99ab-4fda-a522-26d6eed6949c",
   "metadata": {},
   "outputs": [],
   "source": [
    "# NBA Contract Value Analysis\n",
    "## Day 2: Data Collection, Exploration, and Initial Cleaning"
   ]
  },
  {
   "cell_type": "code",
   "execution_count": 20,
   "id": "7f2c78b7-6e7d-45f9-93af-a26f752992ec",
   "metadata": {},
   "outputs": [
    {
     "name": "stdout",
     "output_type": "stream",
     "text": [
      "Requirement already satisfied: psycopg2-binary in c:\\users\\hundo\\onedrive\\desktop\\nba_contract_value_analysis\\venv\\lib\\site-packages (2.9.10)\n"
     ]
    },
    {
     "name": "stderr",
     "output_type": "stream",
     "text": [
      "\n",
      "[notice] A new release of pip is available: 24.0 -> 25.2\n",
      "[notice] To update, run: python.exe -m pip install --upgrade pip\n"
     ]
    },
    {
     "name": "stdout",
     "output_type": "stream",
     "text": [
      "('PostgreSQL 17.6 on aarch64-unknown-linux-gnu, compiled by gcc (GCC) 13.2.0, 64-bit',)\n"
     ]
    }
   ],
   "source": [
    "import pandas as pd\n",
    "import numpy as np\n",
    "!pip install psycopg2-binary\n",
    "import psycopg2\n",
    "conn = psycopg2.connect(\n",
    "    host=\"aws-1-us-west-1.pooler.supabase.com\",\n",
    "    port=\"6543\",\n",
    "    dbname=\"postgres\",\n",
    "    user=\"postgres.sigmumejgwpiomgkveht\",\n",
    "    password=\"Ayayonuro$7007$\",\n",
    "    sslmode=\"require\"\n",
    ")\n",
    "cur = conn.cursor()\n",
    "cur.execute(\"SELECT version();\")  # ask the DB for its version\n",
    "print(cur.fetchone())             # prints something like ('PostgreSQL 15.x ...',)\n",
    "\n",
    "cur.close()\n",
    "conn.close()"
   ]
  },
  {
   "cell_type": "code",
   "execution_count": 19,
   "id": "69adde3e-f7b7-426c-a34b-1b58123dff3c",
   "metadata": {},
   "outputs": [],
   "source": [
    "import matplotlib.pyplot as plt\n",
    "import seaborn as sns"
   ]
  },
  {
   "cell_type": "code",
   "execution_count": 6,
   "id": "738018e7-af3f-4e3d-b254-915ff4f94c6b",
   "metadata": {},
   "outputs": [
    {
     "name": "stdout",
     "output_type": "stream",
     "text": [
      "(737, 32)\n",
      "    Rk                   Player   Age Team  Pos     G    GS    MP    FG   FGA  \\\n",
      "0  NaN                      NaN   NaN  NaN  NaN   NaN   NaN   NaN   NaN   NaN   \n",
      "1  1.0  Shai Gilgeous-Alexander  26.0  OKC   PG  76.0  76.0  34.2  11.3  21.8   \n",
      "2  2.0    Giannis Antetokounmpo  30.0  MIL   PF  67.0  67.0  34.2  11.8  19.7   \n",
      "3  3.0             Nikola Jokić  29.0  DEN    C  70.0  70.0  36.7  11.2  19.5   \n",
      "4  4.0              Luka Dončić  25.0  2TM   PG  50.0  50.0  35.4   9.2  20.5   \n",
      "\n",
      "   ...  DRB   TRB   AST  STL  BLK  TOV   PF   PTS                    Awards  \\\n",
      "0  ...  NaN   NaN   NaN  NaN  NaN  NaN  NaN   NaN                       NaN   \n",
      "1  ...  4.1   5.0   6.4  1.7  1.0  2.4  2.2  32.7  MVP-1DPOY-10CPOY-8ASNBA1   \n",
      "2  ...  9.7  11.9   6.5  0.9  1.2  3.1  2.3  30.4         MVP-3DPOY-8ASNBA1   \n",
      "3  ...  9.9  12.7  10.2  1.8  0.6  3.3  2.3  29.6         MVP-2CPOY-2ASNBA1   \n",
      "4  ...  7.4   8.2   7.7  1.8  0.4  3.6  2.5  28.2                       NaN   \n",
      "\n",
      "   Player-additional  \n",
      "0              -9999  \n",
      "1          gilgesh01  \n",
      "2          antetgi01  \n",
      "3          jokicni01  \n",
      "4          doncilu01  \n",
      "\n",
      "[5 rows x 32 columns]\n"
     ]
    }
   ],
   "source": [
    "df = pd.read_csv(\"data/raw/nba_stats_2025.csv\")\n",
    "print(df.shape)\n",
    "print(df.head())"
   ]
  },
  {
   "cell_type": "code",
   "execution_count": 7,
   "id": "cf53144d-d24a-4d6d-88a4-b392d09d26d7",
   "metadata": {},
   "outputs": [],
   "source": [
    "df = df[df[\"Rk\"].notna()]"
   ]
  },
  {
   "cell_type": "code",
   "execution_count": 11,
   "id": "dcfa74af-8df7-4278-832f-6f0b75b6059e",
   "metadata": {},
   "outputs": [
    {
     "name": "stdout",
     "output_type": "stream",
     "text": [
      "(735, 32)\n",
      "    Rk                   Player   Age Team Pos     G    GS    MP    FG   FGA  \\\n",
      "1  1.0  Shai Gilgeous-Alexander  26.0  OKC  PG  76.0  76.0  34.2  11.3  21.8   \n",
      "2  2.0    Giannis Antetokounmpo  30.0  MIL  PF  67.0  67.0  34.2  11.8  19.7   \n",
      "3  3.0             Nikola Jokić  29.0  DEN   C  70.0  70.0  36.7  11.2  19.5   \n",
      "4  4.0              Luka Dončić  25.0  2TM  PG  50.0  50.0  35.4   9.2  20.5   \n",
      "5  4.0              Luka Dončić  25.0  DAL  PG  22.0  22.0  35.7   9.8  21.2   \n",
      "\n",
      "   ...  DRB   TRB   AST  STL  BLK  TOV   PF   PTS                    Awards  \\\n",
      "1  ...  4.1   5.0   6.4  1.7  1.0  2.4  2.2  32.7  MVP-1DPOY-10CPOY-8ASNBA1   \n",
      "2  ...  9.7  11.9   6.5  0.9  1.2  3.1  2.3  30.4         MVP-3DPOY-8ASNBA1   \n",
      "3  ...  9.9  12.7  10.2  1.8  0.6  3.3  2.3  29.6         MVP-2CPOY-2ASNBA1   \n",
      "4  ...  7.4   8.2   7.7  1.8  0.4  3.6  2.5  28.2                       NaN   \n",
      "5  ...  7.6   8.3   7.8  2.0  0.4  3.4  2.6  28.1                       NaN   \n",
      "\n",
      "   Player-additional  \n",
      "1          gilgesh01  \n",
      "2          antetgi01  \n",
      "3          jokicni01  \n",
      "4          doncilu01  \n",
      "5          doncilu01  \n",
      "\n",
      "[5 rows x 32 columns]\n"
     ]
    }
   ],
   "source": [
    "print(df.shape)\n",
    "print(df.head())"
   ]
  },
  {
   "cell_type": "code",
   "execution_count": 12,
   "id": "4fb52c32-3f1a-4ccb-9e83-9a6df3c98930",
   "metadata": {},
   "outputs": [],
   "source": [
    "df[\"Rk\"] = df[\"Rk\"].astype(\"Int64\")"
   ]
  },
  {
   "cell_type": "code",
   "execution_count": 13,
   "id": "444becd9-711e-4166-8278-20dab804e889",
   "metadata": {
    "scrolled": true
   },
   "outputs": [
    {
     "data": {
      "text/html": [
       "<div>\n",
       "<style scoped>\n",
       "    .dataframe tbody tr th:only-of-type {\n",
       "        vertical-align: middle;\n",
       "    }\n",
       "\n",
       "    .dataframe tbody tr th {\n",
       "        vertical-align: top;\n",
       "    }\n",
       "\n",
       "    .dataframe thead th {\n",
       "        text-align: right;\n",
       "    }\n",
       "</style>\n",
       "<table border=\"1\" class=\"dataframe\">\n",
       "  <thead>\n",
       "    <tr style=\"text-align: right;\">\n",
       "      <th></th>\n",
       "      <th>Rk</th>\n",
       "      <th>Player</th>\n",
       "    </tr>\n",
       "  </thead>\n",
       "  <tbody>\n",
       "    <tr>\n",
       "      <th>1</th>\n",
       "      <td>1</td>\n",
       "      <td>Shai Gilgeous-Alexander</td>\n",
       "    </tr>\n",
       "    <tr>\n",
       "      <th>2</th>\n",
       "      <td>2</td>\n",
       "      <td>Giannis Antetokounmpo</td>\n",
       "    </tr>\n",
       "    <tr>\n",
       "      <th>3</th>\n",
       "      <td>3</td>\n",
       "      <td>Nikola Jokić</td>\n",
       "    </tr>\n",
       "    <tr>\n",
       "      <th>4</th>\n",
       "      <td>4</td>\n",
       "      <td>Luka Dončić</td>\n",
       "    </tr>\n",
       "    <tr>\n",
       "      <th>5</th>\n",
       "      <td>4</td>\n",
       "      <td>Luka Dončić</td>\n",
       "    </tr>\n",
       "    <tr>\n",
       "      <th>6</th>\n",
       "      <td>4</td>\n",
       "      <td>Luka Dončić</td>\n",
       "    </tr>\n",
       "    <tr>\n",
       "      <th>7</th>\n",
       "      <td>5</td>\n",
       "      <td>Anthony Edwards</td>\n",
       "    </tr>\n",
       "    <tr>\n",
       "      <th>8</th>\n",
       "      <td>6</td>\n",
       "      <td>Jayson Tatum</td>\n",
       "    </tr>\n",
       "    <tr>\n",
       "      <th>9</th>\n",
       "      <td>7</td>\n",
       "      <td>Kevin Durant</td>\n",
       "    </tr>\n",
       "    <tr>\n",
       "      <th>10</th>\n",
       "      <td>8</td>\n",
       "      <td>Tyrese Maxey</td>\n",
       "    </tr>\n",
       "  </tbody>\n",
       "</table>\n",
       "</div>"
      ],
      "text/plain": [
       "    Rk                   Player\n",
       "1    1  Shai Gilgeous-Alexander\n",
       "2    2    Giannis Antetokounmpo\n",
       "3    3             Nikola Jokić\n",
       "4    4              Luka Dončić\n",
       "5    4              Luka Dončić\n",
       "6    4              Luka Dončić\n",
       "7    5          Anthony Edwards\n",
       "8    6             Jayson Tatum\n",
       "9    7             Kevin Durant\n",
       "10   8             Tyrese Maxey"
      ]
     },
     "execution_count": 13,
     "metadata": {},
     "output_type": "execute_result"
    }
   ],
   "source": [
    "df[[\"Rk\", \"Player\"]].head(10)"
   ]
  },
  {
   "cell_type": "code",
   "execution_count": 14,
   "id": "d54d0d93-f54f-4c1b-a644-cd550ffccb02",
   "metadata": {},
   "outputs": [
    {
     "data": {
      "text/plain": [
       "Rk                     Int64\n",
       "Player                object\n",
       "Age                  float64\n",
       "Team                  object\n",
       "Pos                   object\n",
       "G                    float64\n",
       "GS                   float64\n",
       "MP                   float64\n",
       "FG                   float64\n",
       "FGA                  float64\n",
       "FG%                  float64\n",
       "3P                   float64\n",
       "3PA                  float64\n",
       "3P%                  float64\n",
       "2P                   float64\n",
       "2PA                  float64\n",
       "2P%                  float64\n",
       "eFG%                 float64\n",
       "FT                   float64\n",
       "FTA                  float64\n",
       "FT%                  float64\n",
       "ORB                  float64\n",
       "DRB                  float64\n",
       "TRB                  float64\n",
       "AST                  float64\n",
       "STL                  float64\n",
       "BLK                  float64\n",
       "TOV                  float64\n",
       "PF                   float64\n",
       "PTS                  float64\n",
       "Awards                object\n",
       "Player-additional     object\n",
       "dtype: object"
      ]
     },
     "execution_count": 14,
     "metadata": {},
     "output_type": "execute_result"
    }
   ],
   "source": [
    "df.dtypes"
   ]
  },
  {
   "cell_type": "code",
   "execution_count": null,
   "id": "4e9b6f3e-b545-4dbb-a28f-3c3e3a54edd4",
   "metadata": {},
   "outputs": [],
   "source": []
  }
 ],
 "metadata": {
  "kernelspec": {
   "display_name": "Python 3 (ipykernel)",
   "language": "python",
   "name": "python3"
  },
  "language_info": {
   "codemirror_mode": {
    "name": "ipython",
    "version": 3
   },
   "file_extension": ".py",
   "mimetype": "text/x-python",
   "name": "python",
   "nbconvert_exporter": "python",
   "pygments_lexer": "ipython3",
   "version": "3.12.2"
  }
 },
 "nbformat": 4,
 "nbformat_minor": 5
}
